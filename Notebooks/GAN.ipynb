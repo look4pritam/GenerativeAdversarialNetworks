{
  "nbformat": 4,
  "nbformat_minor": 0,
  "metadata": {
    "accelerator": "GPU",
    "colab": {
      "provenance": [],
      "include_colab_link": true
    },
    "kernelspec": {
      "name": "python3",
      "display_name": "Python 3"
    },
    "gpuClass": "standard",
    "widgets": {
      "application/vnd.jupyter.widget-state+json": {
        "4a44daffe1b540f595459c5fb6d3f3ae": {
          "model_module": "@jupyter-widgets/controls",
          "model_name": "HBoxModel",
          "model_module_version": "1.5.0",
          "state": {
            "_dom_classes": [],
            "_model_module": "@jupyter-widgets/controls",
            "_model_module_version": "1.5.0",
            "_model_name": "HBoxModel",
            "_view_count": null,
            "_view_module": "@jupyter-widgets/controls",
            "_view_module_version": "1.5.0",
            "_view_name": "HBoxView",
            "box_style": "",
            "children": [
              "IPY_MODEL_abce94fcbe59489f870723a0f345864a",
              "IPY_MODEL_df589b5a059340708efa3b88dd99e086",
              "IPY_MODEL_3522db8d546f4d7cbfaf8563b9bbd883"
            ],
            "layout": "IPY_MODEL_6d4095a2d3a042cea1f3a4a39a3013c4"
          }
        },
        "abce94fcbe59489f870723a0f345864a": {
          "model_module": "@jupyter-widgets/controls",
          "model_name": "HTMLModel",
          "model_module_version": "1.5.0",
          "state": {
            "_dom_classes": [],
            "_model_module": "@jupyter-widgets/controls",
            "_model_module_version": "1.5.0",
            "_model_name": "HTMLModel",
            "_view_count": null,
            "_view_module": "@jupyter-widgets/controls",
            "_view_module_version": "1.5.0",
            "_view_name": "HTMLView",
            "description": "",
            "description_tooltip": null,
            "layout": "IPY_MODEL_01655cf5109d4eef9c36ac010962d695",
            "placeholder": "​",
            "style": "IPY_MODEL_cd8ef08b0ba24f1c9b0b48465f43ea77",
            "value": "Dl Completed...: 100%"
          }
        },
        "df589b5a059340708efa3b88dd99e086": {
          "model_module": "@jupyter-widgets/controls",
          "model_name": "FloatProgressModel",
          "model_module_version": "1.5.0",
          "state": {
            "_dom_classes": [],
            "_model_module": "@jupyter-widgets/controls",
            "_model_module_version": "1.5.0",
            "_model_name": "FloatProgressModel",
            "_view_count": null,
            "_view_module": "@jupyter-widgets/controls",
            "_view_module_version": "1.5.0",
            "_view_name": "ProgressView",
            "bar_style": "success",
            "description": "",
            "description_tooltip": null,
            "layout": "IPY_MODEL_6601ae5f49914c3b88e436487965bb7a",
            "max": 5,
            "min": 0,
            "orientation": "horizontal",
            "style": "IPY_MODEL_15be6701c56d48068c15829b256571dd",
            "value": 5
          }
        },
        "3522db8d546f4d7cbfaf8563b9bbd883": {
          "model_module": "@jupyter-widgets/controls",
          "model_name": "HTMLModel",
          "model_module_version": "1.5.0",
          "state": {
            "_dom_classes": [],
            "_model_module": "@jupyter-widgets/controls",
            "_model_module_version": "1.5.0",
            "_model_name": "HTMLModel",
            "_view_count": null,
            "_view_module": "@jupyter-widgets/controls",
            "_view_module_version": "1.5.0",
            "_view_name": "HTMLView",
            "description": "",
            "description_tooltip": null,
            "layout": "IPY_MODEL_49c3577757c54ee2afbea468b874d22b",
            "placeholder": "​",
            "style": "IPY_MODEL_7ffb8a7470db43c8a00322373a975c2a",
            "value": " 5/5 [00:03&lt;00:00,  1.37 file/s]"
          }
        },
        "6d4095a2d3a042cea1f3a4a39a3013c4": {
          "model_module": "@jupyter-widgets/base",
          "model_name": "LayoutModel",
          "model_module_version": "1.2.0",
          "state": {
            "_model_module": "@jupyter-widgets/base",
            "_model_module_version": "1.2.0",
            "_model_name": "LayoutModel",
            "_view_count": null,
            "_view_module": "@jupyter-widgets/base",
            "_view_module_version": "1.2.0",
            "_view_name": "LayoutView",
            "align_content": null,
            "align_items": null,
            "align_self": null,
            "border": null,
            "bottom": null,
            "display": null,
            "flex": null,
            "flex_flow": null,
            "grid_area": null,
            "grid_auto_columns": null,
            "grid_auto_flow": null,
            "grid_auto_rows": null,
            "grid_column": null,
            "grid_gap": null,
            "grid_row": null,
            "grid_template_areas": null,
            "grid_template_columns": null,
            "grid_template_rows": null,
            "height": null,
            "justify_content": null,
            "justify_items": null,
            "left": null,
            "margin": null,
            "max_height": null,
            "max_width": null,
            "min_height": null,
            "min_width": null,
            "object_fit": null,
            "object_position": null,
            "order": null,
            "overflow": null,
            "overflow_x": null,
            "overflow_y": null,
            "padding": null,
            "right": null,
            "top": null,
            "visibility": null,
            "width": null
          }
        },
        "01655cf5109d4eef9c36ac010962d695": {
          "model_module": "@jupyter-widgets/base",
          "model_name": "LayoutModel",
          "model_module_version": "1.2.0",
          "state": {
            "_model_module": "@jupyter-widgets/base",
            "_model_module_version": "1.2.0",
            "_model_name": "LayoutModel",
            "_view_count": null,
            "_view_module": "@jupyter-widgets/base",
            "_view_module_version": "1.2.0",
            "_view_name": "LayoutView",
            "align_content": null,
            "align_items": null,
            "align_self": null,
            "border": null,
            "bottom": null,
            "display": null,
            "flex": null,
            "flex_flow": null,
            "grid_area": null,
            "grid_auto_columns": null,
            "grid_auto_flow": null,
            "grid_auto_rows": null,
            "grid_column": null,
            "grid_gap": null,
            "grid_row": null,
            "grid_template_areas": null,
            "grid_template_columns": null,
            "grid_template_rows": null,
            "height": null,
            "justify_content": null,
            "justify_items": null,
            "left": null,
            "margin": null,
            "max_height": null,
            "max_width": null,
            "min_height": null,
            "min_width": null,
            "object_fit": null,
            "object_position": null,
            "order": null,
            "overflow": null,
            "overflow_x": null,
            "overflow_y": null,
            "padding": null,
            "right": null,
            "top": null,
            "visibility": null,
            "width": null
          }
        },
        "cd8ef08b0ba24f1c9b0b48465f43ea77": {
          "model_module": "@jupyter-widgets/controls",
          "model_name": "DescriptionStyleModel",
          "model_module_version": "1.5.0",
          "state": {
            "_model_module": "@jupyter-widgets/controls",
            "_model_module_version": "1.5.0",
            "_model_name": "DescriptionStyleModel",
            "_view_count": null,
            "_view_module": "@jupyter-widgets/base",
            "_view_module_version": "1.2.0",
            "_view_name": "StyleView",
            "description_width": ""
          }
        },
        "6601ae5f49914c3b88e436487965bb7a": {
          "model_module": "@jupyter-widgets/base",
          "model_name": "LayoutModel",
          "model_module_version": "1.2.0",
          "state": {
            "_model_module": "@jupyter-widgets/base",
            "_model_module_version": "1.2.0",
            "_model_name": "LayoutModel",
            "_view_count": null,
            "_view_module": "@jupyter-widgets/base",
            "_view_module_version": "1.2.0",
            "_view_name": "LayoutView",
            "align_content": null,
            "align_items": null,
            "align_self": null,
            "border": null,
            "bottom": null,
            "display": null,
            "flex": null,
            "flex_flow": null,
            "grid_area": null,
            "grid_auto_columns": null,
            "grid_auto_flow": null,
            "grid_auto_rows": null,
            "grid_column": null,
            "grid_gap": null,
            "grid_row": null,
            "grid_template_areas": null,
            "grid_template_columns": null,
            "grid_template_rows": null,
            "height": null,
            "justify_content": null,
            "justify_items": null,
            "left": null,
            "margin": null,
            "max_height": null,
            "max_width": null,
            "min_height": null,
            "min_width": null,
            "object_fit": null,
            "object_position": null,
            "order": null,
            "overflow": null,
            "overflow_x": null,
            "overflow_y": null,
            "padding": null,
            "right": null,
            "top": null,
            "visibility": null,
            "width": null
          }
        },
        "15be6701c56d48068c15829b256571dd": {
          "model_module": "@jupyter-widgets/controls",
          "model_name": "ProgressStyleModel",
          "model_module_version": "1.5.0",
          "state": {
            "_model_module": "@jupyter-widgets/controls",
            "_model_module_version": "1.5.0",
            "_model_name": "ProgressStyleModel",
            "_view_count": null,
            "_view_module": "@jupyter-widgets/base",
            "_view_module_version": "1.2.0",
            "_view_name": "StyleView",
            "bar_color": null,
            "description_width": ""
          }
        },
        "49c3577757c54ee2afbea468b874d22b": {
          "model_module": "@jupyter-widgets/base",
          "model_name": "LayoutModel",
          "model_module_version": "1.2.0",
          "state": {
            "_model_module": "@jupyter-widgets/base",
            "_model_module_version": "1.2.0",
            "_model_name": "LayoutModel",
            "_view_count": null,
            "_view_module": "@jupyter-widgets/base",
            "_view_module_version": "1.2.0",
            "_view_name": "LayoutView",
            "align_content": null,
            "align_items": null,
            "align_self": null,
            "border": null,
            "bottom": null,
            "display": null,
            "flex": null,
            "flex_flow": null,
            "grid_area": null,
            "grid_auto_columns": null,
            "grid_auto_flow": null,
            "grid_auto_rows": null,
            "grid_column": null,
            "grid_gap": null,
            "grid_row": null,
            "grid_template_areas": null,
            "grid_template_columns": null,
            "grid_template_rows": null,
            "height": null,
            "justify_content": null,
            "justify_items": null,
            "left": null,
            "margin": null,
            "max_height": null,
            "max_width": null,
            "min_height": null,
            "min_width": null,
            "object_fit": null,
            "object_position": null,
            "order": null,
            "overflow": null,
            "overflow_x": null,
            "overflow_y": null,
            "padding": null,
            "right": null,
            "top": null,
            "visibility": null,
            "width": null
          }
        },
        "7ffb8a7470db43c8a00322373a975c2a": {
          "model_module": "@jupyter-widgets/controls",
          "model_name": "DescriptionStyleModel",
          "model_module_version": "1.5.0",
          "state": {
            "_model_module": "@jupyter-widgets/controls",
            "_model_module_version": "1.5.0",
            "_model_name": "DescriptionStyleModel",
            "_view_count": null,
            "_view_module": "@jupyter-widgets/base",
            "_view_module_version": "1.2.0",
            "_view_name": "StyleView",
            "description_width": ""
          }
        }
      }
    }
  },
  "cells": [
    {
      "cell_type": "markdown",
      "metadata": {
        "id": "view-in-github",
        "colab_type": "text"
      },
      "source": [
        "<a href=\"https://colab.research.google.com/github/look4pritam/GenerativeAdversarialNetworks/blob/master/Notebooks/GAN.ipynb\" target=\"_parent\"><img src=\"https://colab.research.google.com/assets/colab-badge.svg\" alt=\"Open In Colab\"/></a>"
      ]
    },
    {
      "cell_type": "markdown",
      "source": [
        "# Generative Adversarial Networks\n",
        "\n",
        "In this assignment, we will learn to generate images using [Generative Adversarial Networks](https://en.wikipedia.org/wiki/Generative_adversarial_network) (GAN).\n",
        "\n",
        "We will use An Artificial Neural Network based GAN for image generation.\n",
        "\n",
        "See [link](https://en.wikipedia.org/wiki/Generative_adversarial_network) for more details."
      ],
      "metadata": {
        "id": "6FtsFYS37bGB"
      }
    },
    {
      "cell_type": "markdown",
      "source": [
        "# Set the root directory for processing."
      ],
      "metadata": {
        "id": "izJ8_uEF7zMp"
      }
    },
    {
      "cell_type": "code",
      "source": [
        "import os\n",
        "\n",
        "root_dir = '/content/'\n",
        "os.chdir(root_dir)\n",
        "\n",
        "!ls -al"
      ],
      "metadata": {
        "id": "v5tnoTvd70BW",
        "colab": {
          "base_uri": "https://localhost:8080/"
        },
        "outputId": "e9060164-a7b1-43dd-8094-94f1d1e019e7"
      },
      "execution_count": null,
      "outputs": [
        {
          "output_type": "stream",
          "name": "stdout",
          "text": [
            "total 16\n",
            "drwxr-xr-x 1 root root 4096 Dec 19 14:30 .\n",
            "drwxr-xr-x 1 root root 4096 Dec 21 06:42 ..\n",
            "drwxr-xr-x 4 root root 4096 Dec 19 14:30 .config\n",
            "drwxr-xr-x 1 root root 4096 Dec 19 14:31 sample_data\n"
          ]
        }
      ]
    },
    {
      "cell_type": "markdown",
      "source": [
        "# Import required python modules."
      ],
      "metadata": {
        "id": "sdy1-_4e-Q7x"
      }
    },
    {
      "cell_type": "code",
      "source": [
        "import numpy as np\n",
        "np.random.seed(7)"
      ],
      "metadata": {
        "id": "HOpLVDWK-UdQ"
      },
      "execution_count": null,
      "outputs": []
    },
    {
      "cell_type": "code",
      "source": [
        "import tensorflow as tf\n",
        "tf.random.set_seed(7)\n",
        "\n",
        "import tensorflow_datasets as tfds"
      ],
      "metadata": {
        "id": "ARrV-Wp69u20"
      },
      "execution_count": null,
      "outputs": []
    },
    {
      "cell_type": "markdown",
      "source": [
        "# Define input image shape, batch size, and buffer size."
      ],
      "metadata": {
        "id": "TunVFsbBXkuP"
      }
    },
    {
      "cell_type": "code",
      "source": [
        "image_shape = (28, 28, 1)\n",
        "batch_size = 64\n",
        "buffer_size = 1024"
      ],
      "metadata": {
        "id": "hsRnRDZR7kHy"
      },
      "execution_count": null,
      "outputs": []
    },
    {
      "cell_type": "markdown",
      "source": [
        "# Load MNIST dataset using TensorFlow dataset."
      ],
      "metadata": {
        "id": "Ua9PbUJvXv3_"
      }
    },
    {
      "cell_type": "markdown",
      "source": [
        "### Define a dataset augmentation function."
      ],
      "metadata": {
        "id": "T-qHy3_bX64v"
      }
    },
    {
      "cell_type": "code",
      "source": [
        "def augment_dataset(image, label):\n",
        "  return (image, label)"
      ],
      "metadata": {
        "id": "h9Aj0Ure9QqL"
      },
      "execution_count": null,
      "outputs": []
    },
    {
      "cell_type": "markdown",
      "source": [
        "### Define a function to load the training dataset."
      ],
      "metadata": {
        "id": "VRzIl5fCYFPv"
      }
    },
    {
      "cell_type": "code",
      "source": [
        "def load_train_dataset(batch_size, buffer_size):\n",
        "  number_of_batches = 0\n",
        "  train_dataset, test_dataset = tfds.load(name=\"mnist\", split=['train', 'test'], as_supervised=True)\n",
        "  train_dataset = train_dataset.concatenate(test_dataset)\n",
        "\n",
        "  train_dataset = train_dataset.shuffle(buffer_size)\n",
        "  train_dataset = train_dataset.batch(batch_size, drop_remainder=True)\n",
        "  train_dataset = train_dataset.map(augment_dataset)\n",
        "\n",
        "  return (train_dataset, number_of_batches)"
      ],
      "metadata": {
        "id": "1eFmhi2l83Jj"
      },
      "execution_count": null,
      "outputs": []
    },
    {
      "cell_type": "markdown",
      "source": [
        "### Define a function to normalize the dataset."
      ],
      "metadata": {
        "id": "Ke58obH4YWjQ"
      }
    },
    {
      "cell_type": "code",
      "source": [
        "def normalize_dataset(image, label):\n",
        "  image = (tf.cast(image, tf.float32) - 127.5) / 127.5\n",
        "  return (image, label)"
      ],
      "metadata": {
        "id": "lZUDWewr_Jt9"
      },
      "execution_count": null,
      "outputs": []
    },
    {
      "cell_type": "markdown",
      "source": [
        "### Define a function to preprocess the training dataset."
      ],
      "metadata": {
        "id": "r-4wehBAYbeG"
      }
    },
    {
      "cell_type": "code",
      "source": [
        "def preprocess_train_dataset(batch_size, buffer_size):\n",
        "  train_dataset, number_of_batches = load_train_dataset(batch_size, buffer_size)\n",
        "  train_dataset = train_dataset.map(normalize_dataset)\n",
        "  return (train_dataset, number_of_batches)"
      ],
      "metadata": {
        "id": "O_cX_UbOCXr4"
      },
      "execution_count": null,
      "outputs": []
    },
    {
      "cell_type": "markdown",
      "source": [
        "### Preprocess the training dataset."
      ],
      "metadata": {
        "id": "h2ZL-FbtYfa-"
      }
    },
    {
      "cell_type": "code",
      "source": [
        "train_dataset, number_of_batches = preprocess_train_dataset(batch_size, buffer_size)"
      ],
      "metadata": {
        "colab": {
          "base_uri": "https://localhost:8080/",
          "height": 84,
          "referenced_widgets": [
            "4a44daffe1b540f595459c5fb6d3f3ae",
            "abce94fcbe59489f870723a0f345864a",
            "df589b5a059340708efa3b88dd99e086",
            "3522db8d546f4d7cbfaf8563b9bbd883",
            "6d4095a2d3a042cea1f3a4a39a3013c4",
            "01655cf5109d4eef9c36ac010962d695",
            "cd8ef08b0ba24f1c9b0b48465f43ea77",
            "6601ae5f49914c3b88e436487965bb7a",
            "15be6701c56d48068c15829b256571dd",
            "49c3577757c54ee2afbea468b874d22b",
            "7ffb8a7470db43c8a00322373a975c2a"
          ]
        },
        "id": "krI7rODfBjUF",
        "outputId": "4fe303ca-fc9a-4475-fe4a-92641c8e5149"
      },
      "execution_count": null,
      "outputs": [
        {
          "output_type": "stream",
          "name": "stdout",
          "text": [
            "Downloading and preparing dataset 11.06 MiB (download: 11.06 MiB, generated: 21.00 MiB, total: 32.06 MiB) to ~/tensorflow_datasets/mnist/3.0.1...\n"
          ]
        },
        {
          "output_type": "display_data",
          "data": {
            "text/plain": [
              "Dl Completed...:   0%|          | 0/5 [00:00<?, ? file/s]"
            ],
            "application/vnd.jupyter.widget-view+json": {
              "version_major": 2,
              "version_minor": 0,
              "model_id": "4a44daffe1b540f595459c5fb6d3f3ae"
            }
          },
          "metadata": {}
        },
        {
          "output_type": "stream",
          "name": "stdout",
          "text": [
            "Dataset mnist downloaded and prepared to ~/tensorflow_datasets/mnist/3.0.1. Subsequent calls will reuse this data.\n"
          ]
        }
      ]
    },
    {
      "cell_type": "markdown",
      "source": [
        "# Import required python modules."
      ],
      "metadata": {
        "id": "g0eSc514Ymyu"
      }
    },
    {
      "cell_type": "code",
      "source": [
        "import tensorflow.keras.layers as layers\n",
        "import tensorflow.keras.models as models"
      ],
      "metadata": {
        "id": "H9C3G4KV_bYB"
      },
      "execution_count": null,
      "outputs": []
    },
    {
      "cell_type": "markdown",
      "source": [
        "# Define a latent dimension."
      ],
      "metadata": {
        "id": "jX63ymopYpLW"
      }
    },
    {
      "cell_type": "code",
      "metadata": {
        "id": "r8e_rc94rQwm"
      },
      "source": [
        "latent_dimension = 100"
      ],
      "execution_count": null,
      "outputs": []
    },
    {
      "cell_type": "markdown",
      "source": [
        "# Define a customized BatchNormalization layer."
      ],
      "metadata": {
        "id": "Lhyr2NUxYzYW"
      }
    },
    {
      "cell_type": "code",
      "source": [
        "class BatchNormalization(layers.Layer):\n",
        "    def __init__(self, is_training=False, **kwargs):\n",
        "        super(BatchNormalization, self).__init__()\n",
        "        self.bn = layers.BatchNormalization(\n",
        "            epsilon=1e-5, momentum=0.9, scale=True, trainable=is_training)\n",
        "\n",
        "    def call(self, inputs, training):\n",
        "        x = self.bn(inputs, training=training)\n",
        "        return x"
      ],
      "metadata": {
        "id": "E2zTi-IJA8E1"
      },
      "execution_count": null,
      "outputs": []
    },
    {
      "cell_type": "markdown",
      "source": [
        "# Define a function to create a generator."
      ],
      "metadata": {
        "id": "7mGpdAcQY7O-"
      }
    },
    {
      "cell_type": "code",
      "source": [
        "def create_generator(input_shape, latent_dimension):\n",
        "  generator = models.Sequential(name='generator')\n",
        "\n",
        "  generator.add(layers.Dense(units=256, input_shape=(latent_dimension, ), name='block-1-dense'))\n",
        "  generator.add(layers.LeakyReLU(alpha=0.2, name='block-1-lrelu'))\n",
        "  generator.add(BatchNormalization(momentum=0.8, name='block-1-bn'))\n",
        "\n",
        "  generator.add(layers.Dense(units=512, name='block-2-dense'))\n",
        "  generator.add(layers.LeakyReLU(alpha=0.2, name='block-2-lrelu'))\n",
        "  generator.add(BatchNormalization(momentum=0.8, name='block-2-bn'))\n",
        "\n",
        "  generator.add(layers.Dense(units=1024, name='block-3-dense'))\n",
        "  generator.add(layers.LeakyReLU(alpha=0.2, name='block-3-lrelu'))\n",
        "  generator.add(BatchNormalization(momentum=0.8, name='block-3-bn'))\n",
        "\n",
        "  input_size = np.prod(input_shape)\n",
        "  generator.add(layers.Dense(input_size, activation='tanh', name='block-4-dense'))\n",
        "  generator.add(layers.Reshape(input_shape, name='fake-image'))\n",
        "\n",
        "  return (generator)"
      ],
      "metadata": {
        "id": "e95IWrzk_h9u"
      },
      "execution_count": null,
      "outputs": []
    },
    {
      "cell_type": "markdown",
      "source": [
        "# Create a generator using ANN and show corrosponding summary."
      ],
      "metadata": {
        "id": "ga5TgoVjZDuf"
      }
    },
    {
      "cell_type": "code",
      "source": [
        "generator = create_generator(image_shape, latent_dimension)\n",
        "generator.summary()"
      ],
      "metadata": {
        "colab": {
          "base_uri": "https://localhost:8080/"
        },
        "id": "vqZ0x83fBOlL",
        "outputId": "cc982346-363d-404e-b1e2-f59b1e82079b"
      },
      "execution_count": null,
      "outputs": [
        {
          "output_type": "stream",
          "name": "stdout",
          "text": [
            "Model: \"generator\"\n",
            "_________________________________________________________________\n",
            " Layer (type)                Output Shape              Param #   \n",
            "=================================================================\n",
            " block-1-dense (Dense)       (None, 256)               25856     \n",
            "                                                                 \n",
            " block-1-lrelu (LeakyReLU)   (None, 256)               0         \n",
            "                                                                 \n",
            " batch_normalization (BatchN  (None, 256)              1024      \n",
            " ormalization)                                                   \n",
            "                                                                 \n",
            " block-2-dense (Dense)       (None, 512)               131584    \n",
            "                                                                 \n",
            " block-2-lrelu (LeakyReLU)   (None, 512)               0         \n",
            "                                                                 \n",
            " batch_normalization_2 (Batc  (None, 512)              2048      \n",
            " hNormalization)                                                 \n",
            "                                                                 \n",
            " block-3-dense (Dense)       (None, 1024)              525312    \n",
            "                                                                 \n",
            " block-3-lrelu (LeakyReLU)   (None, 1024)              0         \n",
            "                                                                 \n",
            " batch_normalization_4 (Batc  (None, 1024)             4096      \n",
            " hNormalization)                                                 \n",
            "                                                                 \n",
            " block-4-dense (Dense)       (None, 784)               803600    \n",
            "                                                                 \n",
            " fake-image (Reshape)        (None, 28, 28, 1)         0         \n",
            "                                                                 \n",
            "=================================================================\n",
            "Total params: 1,493,520\n",
            "Trainable params: 1,486,352\n",
            "Non-trainable params: 7,168\n",
            "_________________________________________________________________\n"
          ]
        }
      ]
    },
    {
      "cell_type": "markdown",
      "source": [
        "# Define a function to create a discriminator."
      ],
      "metadata": {
        "id": "lC7qtbM8ZaaF"
      }
    },
    {
      "cell_type": "code",
      "source": [
        "def create_discriminator(input_shape):\n",
        "  discriminator = models.Sequential(name='discriminator')\n",
        "\n",
        "  discriminator.add(layers.Flatten(input_shape=input_shape, name='block-1-flatten'))\n",
        "\n",
        "  discriminator.add(layers.Dense(units=1024, name='block-2-dense'))\n",
        "  discriminator.add(layers.LeakyReLU(alpha=0.2, name='block-2-lrelu'))\n",
        "\n",
        "  discriminator.add(layers.Dense(units=512, name='block-3-dense'))\n",
        "  discriminator.add(layers.LeakyReLU(alpha=0.2, name='block-3-lrelu'))\n",
        "\n",
        "  discriminator.add(layers.Dense(units=256, name='block-4-dense'))\n",
        "  discriminator.add(layers.LeakyReLU(alpha=0.2, name='block-4-lrelu'))\n",
        "\n",
        "  discriminator.add(layers.Dense(units=1, activation='sigmoid', name='prediction'))\n",
        "\n",
        "  return (discriminator)"
      ],
      "metadata": {
        "id": "7uxVgOifAgAc"
      },
      "execution_count": null,
      "outputs": []
    },
    {
      "cell_type": "markdown",
      "source": [
        "# Create a discriminator using ANN and show corrosponding summary."
      ],
      "metadata": {
        "id": "O93DirpWZRlG"
      }
    },
    {
      "cell_type": "code",
      "source": [
        "discriminator = create_discriminator(image_shape)\n",
        "discriminator.summary()"
      ],
      "metadata": {
        "colab": {
          "base_uri": "https://localhost:8080/"
        },
        "id": "tFfQiHijBXzO",
        "outputId": "88c3ae89-375c-49d4-e4ac-69ddc619242f"
      },
      "execution_count": null,
      "outputs": [
        {
          "output_type": "stream",
          "name": "stdout",
          "text": [
            "Model: \"discriminator\"\n",
            "_________________________________________________________________\n",
            " Layer (type)                Output Shape              Param #   \n",
            "=================================================================\n",
            " block-1-flatten (Flatten)   (None, 784)               0         \n",
            "                                                                 \n",
            " block-2-dense (Dense)       (None, 1024)              803840    \n",
            "                                                                 \n",
            " block-2-lrelu (LeakyReLU)   (None, 1024)              0         \n",
            "                                                                 \n",
            " block-3-dense (Dense)       (None, 512)               524800    \n",
            "                                                                 \n",
            " block-3-lrelu (LeakyReLU)   (None, 512)               0         \n",
            "                                                                 \n",
            " block-4-dense (Dense)       (None, 256)               131328    \n",
            "                                                                 \n",
            " block-4-lrelu (LeakyReLU)   (None, 256)               0         \n",
            "                                                                 \n",
            " prediction (Dense)          (None, 1)                 257       \n",
            "                                                                 \n",
            "=================================================================\n",
            "Total params: 1,460,225\n",
            "Trainable params: 1,460,225\n",
            "Non-trainable params: 0\n",
            "_________________________________________________________________\n"
          ]
        }
      ]
    },
    {
      "cell_type": "markdown",
      "source": [
        "# Define optimizers."
      ],
      "metadata": {
        "id": "HqvLvYvrZkWd"
      }
    },
    {
      "cell_type": "markdown",
      "source": [
        "### Import required python modules."
      ],
      "metadata": {
        "id": "B5pJ3B1aZoit"
      }
    },
    {
      "cell_type": "code",
      "source": [
        "from tensorflow.keras.optimizers import Adam"
      ],
      "metadata": {
        "id": "YLhpPBEyDZDs"
      },
      "execution_count": null,
      "outputs": []
    },
    {
      "cell_type": "markdown",
      "source": [
        "### Set an appropiate learning rate."
      ],
      "metadata": {
        "id": "4Ydj6kDPZvhd"
      }
    },
    {
      "cell_type": "code",
      "source": [
        "learning_rate = 0.0002"
      ],
      "metadata": {
        "id": "oZq2Ad6X-xYD"
      },
      "execution_count": null,
      "outputs": []
    },
    {
      "cell_type": "markdown",
      "source": [
        "### Define a function to create an optimizer for a generator."
      ],
      "metadata": {
        "id": "EOth904CZ1hl"
      }
    },
    {
      "cell_type": "code",
      "source": [
        "def create_generator_optimizer(learning_rate):\n",
        "  optimizer = Adam(learning_rate=learning_rate, beta_1=0.5)\n",
        "  return (optimizer)"
      ],
      "metadata": {
        "id": "Cej68L5pDKFI"
      },
      "execution_count": null,
      "outputs": []
    },
    {
      "cell_type": "markdown",
      "source": [
        "### Create an optimizer for a generator."
      ],
      "metadata": {
        "id": "5iAJKY2PaIL9"
      }
    },
    {
      "cell_type": "code",
      "source": [
        "generator_optimizer = create_generator_optimizer(learning_rate)"
      ],
      "metadata": {
        "id": "blvmqTfLDe7A"
      },
      "execution_count": null,
      "outputs": []
    },
    {
      "cell_type": "markdown",
      "source": [
        "### Define a function to create an optimizer for a discriminator."
      ],
      "metadata": {
        "id": "QRA50dlCZ82H"
      }
    },
    {
      "cell_type": "code",
      "source": [
        "def create_discriminator_optimizer(learning_rate):\n",
        "  optimizer = Adam(learning_rate=learning_rate, beta_1=0.5)\n",
        "  return (optimizer)"
      ],
      "metadata": {
        "id": "k23-K81nDRlt"
      },
      "execution_count": null,
      "outputs": []
    },
    {
      "cell_type": "markdown",
      "source": [
        "### Create an optimizer for a discriminator."
      ],
      "metadata": {
        "id": "nGa9Z7cKaEDt"
      }
    },
    {
      "cell_type": "code",
      "source": [
        "discriminator_optimizer = create_discriminator_optimizer(learning_rate)"
      ],
      "metadata": {
        "id": "rbT1PgkbDjtE"
      },
      "execution_count": null,
      "outputs": []
    },
    {
      "cell_type": "markdown",
      "source": [
        "# Define a function to generate inputs for a generator."
      ],
      "metadata": {
        "id": "ZRW0Bi4mbBvM"
      }
    },
    {
      "cell_type": "code",
      "source": [
        "def create_generator_inputs(input_batch, number_of_samples):\n",
        "  generator_inputs = tf.random.normal([number_of_samples, latent_dimension])\n",
        "  return (generator_inputs)"
      ],
      "metadata": {
        "id": "8u__w55JNXhw"
      },
      "execution_count": null,
      "outputs": []
    },
    {
      "cell_type": "code",
      "source": [
        "cross_entropy = tf.keras.losses.BinaryCrossentropy(from_logits=True)"
      ],
      "metadata": {
        "id": "C8PoV4dnM364"
      },
      "execution_count": null,
      "outputs": []
    },
    {
      "cell_type": "markdown",
      "source": [
        "# Define a function to compute a generator loss."
      ],
      "metadata": {
        "id": "QT6YCuvIbLGM"
      }
    },
    {
      "cell_type": "code",
      "source": [
        "def compute_generator_loss(fake_predictions):\n",
        "  fake_labels = tf.zeros_like(fake_predictions)\n",
        "  generator_loss = cross_entropy(fake_labels, fake_predictions)\n",
        "  return (generator_loss)"
      ],
      "metadata": {
        "id": "Mo5tuW8mMapp"
      },
      "execution_count": null,
      "outputs": []
    },
    {
      "cell_type": "markdown",
      "source": [
        "# Define a function to update a generator."
      ],
      "metadata": {
        "id": "Xw6ta8TgbRUz"
      }
    },
    {
      "cell_type": "code",
      "source": [
        "def update_generator(input_batch):\n",
        "  generator_inputs = create_generator_inputs(input_batch, batch_size)\n",
        "\n",
        "  with tf.GradientTape() as tape:\n",
        "    generated_images = generator(generator_inputs)\n",
        "    fake_predictions = discriminator(generated_images)\n",
        "\n",
        "    generator_loss = compute_generator_loss(fake_predictions)\n",
        "    gradients = tape.gradient(generator_loss, generator.trainable_weights)\n",
        "    generator_optimizer.apply_gradients(zip(gradients, generator.trainable_weights))\n",
        "\n",
        "    return (generator_loss)"
      ],
      "metadata": {
        "id": "TjsbXO0AKsdE"
      },
      "execution_count": null,
      "outputs": []
    },
    {
      "cell_type": "markdown",
      "source": [
        "# Define a function to compute a discriminator loss."
      ],
      "metadata": {
        "id": "tOeHCEsZbXUE"
      }
    },
    {
      "cell_type": "code",
      "source": [
        "def compute_discriminator_loss(real_predictions, fake_predictions):\n",
        "  real_labels = tf.zeros_like(real_predictions)\n",
        "  real_labels += 0.05 * tf.random.uniform(tf.shape(real_labels))\n",
        "  real_loss = cross_entropy(real_labels, real_predictions)\n",
        "\n",
        "  fake_labels = tf.ones_like(fake_predictions)\n",
        "  fake_labels += 0.05 * tf.random.uniform(tf.shape(fake_labels))\n",
        "  fake_loss = cross_entropy(fake_labels, fake_predictions)\n",
        "\n",
        "  discriminator_loss = 0.5 * (real_loss + fake_loss)\n",
        "\n",
        "  return (discriminator_loss)"
      ],
      "metadata": {
        "id": "Sm8IxDtVNBDA"
      },
      "execution_count": null,
      "outputs": []
    },
    {
      "cell_type": "markdown",
      "source": [
        "# Define a function to update a discriminator."
      ],
      "metadata": {
        "id": "xxxbt-JTbdFT"
      }
    },
    {
      "cell_type": "code",
      "source": [
        " def update_discriminator(input_batch):\n",
        "   real_images, real_labels = input_batch\n",
        "\n",
        "   generator_inputs = create_generator_inputs(input_batch, batch_size)\n",
        "\n",
        "   generated_images = generator(generator_inputs)\n",
        "\n",
        "   with tf.GradientTape() as tape:\n",
        "     real_predictions = discriminator(real_images)\n",
        "     fake_predictions = discriminator(generated_images)\n",
        "\n",
        "     discriminator_loss = compute_discriminator_loss(real_predictions, fake_predictions)\n",
        "     gradients = tape.gradient(discriminator_loss, discriminator.trainable_weights)\n",
        "     discriminator_optimizer.apply_gradients(zip(gradients, discriminator.trainable_weights))\n",
        "\n",
        "     return (discriminator_loss)"
      ],
      "metadata": {
        "id": "AMgAvxJWLipK"
      },
      "execution_count": null,
      "outputs": []
    },
    {
      "cell_type": "markdown",
      "source": [
        "# Define a function to train on an input batch."
      ],
      "metadata": {
        "id": "pKbPxDEQbhou"
      }
    },
    {
      "cell_type": "code",
      "source": [
        "def train_on_batch(input_batch):\n",
        "  generator_loss = update_generator(input_batch)\n",
        "  discriminator_loss = update_discriminator(input_batch)\n",
        "\n",
        "  return {\n",
        "            'generator': generator_loss,\n",
        "            'discriminator': discriminator_loss\n",
        "        }"
      ],
      "metadata": {
        "id": "2k56EBeLFN66"
      },
      "execution_count": null,
      "outputs": []
    },
    {
      "cell_type": "markdown",
      "source": [
        "# Define a function to decode a generated image."
      ],
      "metadata": {
        "id": "SqRM6DEvbn3z"
      }
    },
    {
      "cell_type": "code",
      "source": [
        "def decode_image(input_image):\n",
        "  input_image = input_image * 127.5 + 127.5\n",
        "  return (input_image)"
      ],
      "metadata": {
        "id": "S18d648w_RaF"
      },
      "execution_count": null,
      "outputs": []
    },
    {
      "cell_type": "markdown",
      "source": [
        "# Define a function to generate samples."
      ],
      "metadata": {
        "id": "GJM9d9JbbuYD"
      }
    },
    {
      "cell_type": "code",
      "source": [
        "number_of_samples = 8"
      ],
      "metadata": {
        "id": "F0c9j24tXFP4"
      },
      "execution_count": null,
      "outputs": []
    },
    {
      "cell_type": "code",
      "source": [
        "def generate_samples(generator_inputs):\n",
        "  generated_images = generator.predict(generator_inputs)\n",
        "  generated_images = generated_images.reshape(number_of_samples, image_shape[0], image_shape[1])\n",
        "\n",
        "  generated_images = decode_image(generated_images)\n",
        "\n",
        "  return (generated_images)"
      ],
      "metadata": {
        "id": "D8cvmETVRtqk"
      },
      "execution_count": null,
      "outputs": []
    },
    {
      "cell_type": "markdown",
      "source": [
        "# Define a function to generate and show the generated images."
      ],
      "metadata": {
        "id": "qozKjZF9b2hr"
      }
    },
    {
      "cell_type": "code",
      "source": [
        "from google.colab.patches import cv2_imshow\n",
        "\n",
        "def show_samples():\n",
        "  generator_inputs = create_generator_inputs(None, number_of_samples)\n",
        "  generated_images = generate_samples(generator_inputs)\n",
        "\n",
        "  for index, image in enumerate(generated_images):\n",
        "    cv2_imshow(image)"
      ],
      "metadata": {
        "id": "QRKRwk1sRNsM"
      },
      "execution_count": null,
      "outputs": []
    },
    {
      "cell_type": "markdown",
      "source": [
        "# Train GAN using a generator and a discriminator."
      ],
      "metadata": {
        "id": "ZIGCXZntcD1a"
      }
    },
    {
      "cell_type": "code",
      "source": [
        "number_of_epochs = 10"
      ],
      "metadata": {
        "id": "c8Ho1tYjD-S5"
      },
      "execution_count": null,
      "outputs": []
    },
    {
      "cell_type": "code",
      "source": [
        "for current_epoch in range(number_of_epochs):\n",
        "  print('epoch', str(current_epoch))\n",
        "\n",
        "  for current_batch in train_dataset:\n",
        "    current_losses = train_on_batch(current_batch)\n",
        "\n",
        "  '''\n",
        "  for key_value, loss_value in current_losses.items():\n",
        "    print(key_value, '-', loss_value.numpy())\n",
        "  '''\n",
        "\n",
        "  show_samples()"
      ],
      "metadata": {
        "colab": {
          "base_uri": "https://localhost:8080/",
          "height": 1000
        },
        "id": "CN8i9KNzD6Uo",
        "outputId": "0e80bcc1-0aa5-4b41-a62f-a4a5456d5c93"
      },
      "execution_count": null,
      "outputs": [
        {
          "output_type": "stream",
          "name": "stdout",
          "text": [
            "epoch 0\n"
          ]
        },
        {
          "output_type": "stream",
          "name": "stderr",
          "text": [
            "/usr/local/lib/python3.8/dist-packages/tensorflow/python/util/dispatch.py:1082: UserWarning: \"`binary_crossentropy` received `from_logits=True`, but the `output` argument was produced by a sigmoid or softmax activation and thus does not represent logits. Was this intended?\"\n",
            "  return dispatch_target(*args, **kwargs)\n"
          ]
        },
        {
          "output_type": "stream",
          "name": "stdout",
          "text": [
            "1/1 [==============================] - 0s 185ms/step\n"
          ]
        },
        {
          "output_type": "display_data",
          "data": {
            "text/plain": [
              "<PIL.Image.Image image mode=L size=28x28 at 0x7F8886113880>"
            ],
            "image/png": "[encoded data removed]"
          },
          "metadata": {}
        },
        {
          "output_type": "display_data",
          "data": {
            "text/plain": [
              "<PIL.Image.Image image mode=L size=28x28 at 0x7F8886113880>"
            ],
            "image/png": "[encoded data removed]"
          },
          "metadata": {}
        },
        {
          "output_type": "display_data",
          "data": {
            "text/plain": [
              "<PIL.Image.Image image mode=L size=28x28 at 0x7F8886113880>"
            ],
            "image/png": "[encoded data removed]"
          },
          "metadata": {}
        },
        {
          "output_type": "display_data",
          "data": {
            "text/plain": [
              "<PIL.Image.Image image mode=L size=28x28 at 0x7F8886113880>"
            ],
            "image/png": "[encoded data removed]"
          },
          "metadata": {}
        },
        {
          "output_type": "display_data",
          "data": {
            "text/plain": [
              "<PIL.Image.Image image mode=L size=28x28 at 0x7F8886113880>"
            ],
            "image/png": "[encoded data removed]"
          },
          "metadata": {}
        },
        {
          "output_type": "display_data",
          "data": {
            "text/plain": [
              "<PIL.Image.Image image mode=L size=28x28 at 0x7F8886113880>"
            ],
            "image/png": "[encoded data removed]"
          },
          "metadata": {}
        },
        {
          "output_type": "display_data",
          "data": {
            "text/plain": [
              "<PIL.Image.Image image mode=L size=28x28 at 0x7F8886113880>"
            ],
            "image/png": "[encoded data removed]"
          },
          "metadata": {}
        },
        {
          "output_type": "display_data",
          "data": {
            "text/plain": [
              "<PIL.Image.Image image mode=L size=28x28 at 0x7F8886113880>"
            ],
            "image/png": "[encoded data removed]"
          },
          "metadata": {}
        },
        {
          "output_type": "stream",
          "name": "stdout",
          "text": [
            "epoch 1\n",
            "1/1 [==============================] - 0s 15ms/step\n"
          ]
        },
        {
          "output_type": "display_data",
          "data": {
            "text/plain": [
              "<PIL.Image.Image image mode=L size=28x28 at 0x7F88E0064BE0>"
            ],
            "image/png": "[encoded data removed]"
          },
          "metadata": {}
        },
        {
          "output_type": "display_data",
          "data": {
            "text/plain": [
              "<PIL.Image.Image image mode=L size=28x28 at 0x7F88E0062A00>"
            ],
            "image/png": "[encoded data removed]"
          },
          "metadata": {}
        },
        {
          "output_type": "display_data",
          "data": {
            "text/plain": [
              "<PIL.Image.Image image mode=L size=28x28 at 0x7F8870140FD0>"
            ],
            "image/png": "[encoded data removed]"
          },
          "metadata": {}
        },
        {
          "output_type": "display_data",
          "data": {
            "text/plain": [
              "<PIL.Image.Image image mode=L size=28x28 at 0x7F8886113520>"
            ],
            "image/png": "[encoded data removed]"
          },
          "metadata": {}
        },
        {
          "output_type": "display_data",
          "data": {
            "text/plain": [
              "<PIL.Image.Image image mode=L size=28x28 at 0x7F8886113520>"
            ],
            "image/png": "[encoded data removed]"
          },
          "metadata": {}
        },
        {
          "output_type": "display_data",
          "data": {
            "text/plain": [
              "<PIL.Image.Image image mode=L size=28x28 at 0x7F8886113520>"
            ],
            "image/png": "[encoded data removed]"
          },
          "metadata": {}
        },
        {
          "output_type": "display_data",
          "data": {
            "text/plain": [
              "<PIL.Image.Image image mode=L size=28x28 at 0x7F8886113520>"
            ],
            "image/png": "[encoded data removed]"
          },
          "metadata": {}
        },
        {
          "output_type": "display_data",
          "data": {
            "text/plain": [
              "<PIL.Image.Image image mode=L size=28x28 at 0x7F8886113520>"
            ],
            "image/png": "[encoded data removed]"
          },
          "metadata": {}
        },
        {
          "output_type": "stream",
          "name": "stdout",
          "text": [
            "epoch 2\n",
            "1/1 [==============================] - 0s 15ms/step\n"
          ]
        },
        {
          "output_type": "display_data",
          "data": {
            "text/plain": [
              "<PIL.Image.Image image mode=L size=28x28 at 0x7F88E005B8E0>"
            ],
            "image/png": "[encoded data removed]"
          },
          "metadata": {}
        },
        {
          "output_type": "display_data",
          "data": {
            "text/plain": [
              "<PIL.Image.Image image mode=L size=28x28 at 0x7F88E005B8E0>"
            ],
            "image/png": "[encoded data removed]"
          },
          "metadata": {}
        },
        {
          "output_type": "display_data",
          "data": {
            "text/plain": [
              "<PIL.Image.Image image mode=L size=28x28 at 0x7F88E005B8E0>"
            ],
            "image/png": "[encoded data removed]"
          },
          "metadata": {}
        },
        {
          "output_type": "display_data",
          "data": {
            "text/plain": [
              "<PIL.Image.Image image mode=L size=28x28 at 0x7F88E005B8E0>"
            ],
            "image/png": "[encoded data removed]"
          },
          "metadata": {}
        },
        {
          "output_type": "display_data",
          "data": {
            "text/plain": [
              "<PIL.Image.Image image mode=L size=28x28 at 0x7F88E005B8E0>"
            ],
            "image/png": "[encoded data removed]"
          },
          "metadata": {}
        },
        {
          "output_type": "display_data",
          "data": {
            "text/plain": [
              "<PIL.Image.Image image mode=L size=28x28 at 0x7F88E005B8E0>"
            ],
            "image/png": "[encoded data removed]"
          },
          "metadata": {}
        },
        {
          "output_type": "display_data",
          "data": {
            "text/plain": [
              "<PIL.Image.Image image mode=L size=28x28 at 0x7F88E005B8E0>"
            ],
            "image/png": "[encoded data removed]"
          },
          "metadata": {}
        },
        {
          "output_type": "display_data",
          "data": {
            "text/plain": [
              "<PIL.Image.Image image mode=L size=28x28 at 0x7F88E005B8E0>"
            ],
            "image/png": "[encoded data removed]"
          },
          "metadata": {}
        },
        {
          "output_type": "stream",
          "name": "stdout",
          "text": [
            "epoch 3\n",
            "1/1 [==============================] - 0s 14ms/step\n"
          ]
        },
        {
          "output_type": "display_data",
          "data": {
            "text/plain": [
              "<PIL.Image.Image image mode=L size=28x28 at 0x7F8870123F70>"
            ],
            "image/png": "[encoded data removed]"
          },
          "metadata": {}
        },
        {
          "output_type": "display_data",
          "data": {
            "text/plain": [
              "<PIL.Image.Image image mode=L size=28x28 at 0x7F8870123F70>"
            ],
            "image/png": "[encoded data removed]"
          },
          "metadata": {}
        },
        {
          "output_type": "display_data",
          "data": {
            "text/plain": [
              "<PIL.Image.Image image mode=L size=28x28 at 0x7F88700DEA90>"
            ],
            "image/png": "[encoded data removed]"
          },
          "metadata": {}
        },
        {
          "output_type": "display_data",
          "data": {
            "text/plain": [
              "<PIL.Image.Image image mode=L size=28x28 at 0x7F88700DEA90>"
            ],
            "image/png": "[encoded data removed]"
          },
          "metadata": {}
        },
        {
          "output_type": "display_data",
          "data": {
            "text/plain": [
              "<PIL.Image.Image image mode=L size=28x28 at 0x7F88700DEA90>"
            ],
            "image/png": "[encoded data removed]"
          },
          "metadata": {}
        },
        {
          "output_type": "display_data",
          "data": {
            "text/plain": [
              "<PIL.Image.Image image mode=L size=28x28 at 0x7F88700DEA90>"
            ],
            "image/png": "[encoded data removed]"
          },
          "metadata": {}
        },
        {
          "output_type": "display_data",
          "data": {
            "text/plain": [
              "<PIL.Image.Image image mode=L size=28x28 at 0x7F88700DEA90>"
            ],
            "image/png": "[encoded data removed]"
          },
          "metadata": {}
        },
        {
          "output_type": "display_data",
          "data": {
            "text/plain": [
              "<PIL.Image.Image image mode=L size=28x28 at 0x7F88700DEA90>"
            ],
            "image/png": "[encoded data removed]"
          },
          "metadata": {}
        },
        {
          "output_type": "stream",
          "name": "stdout",
          "text": [
            "epoch 4\n",
            "1/1 [==============================] - 0s 16ms/step\n"
          ]
        },
        {
          "output_type": "display_data",
          "data": {
            "text/plain": [
              "<PIL.Image.Image image mode=L size=28x28 at 0x7F887011E4C0>"
            ],
            "image/png": "[encoded data removed]"
          },
          "metadata": {}
        },
        {
          "output_type": "display_data",
          "data": {
            "text/plain": [
              "<PIL.Image.Image image mode=L size=28x28 at 0x7F887011E4C0>"
            ],
            "image/png": "[encoded data removed]"
          },
          "metadata": {}
        },
        {
          "output_type": "display_data",
          "data": {
            "text/plain": [
              "<PIL.Image.Image image mode=L size=28x28 at 0x7F887011E4C0>"
            ],
            "image/png": "[encoded data removed]"
          },
          "metadata": {}
        },
        {
          "output_type": "display_data",
          "data": {
            "text/plain": [
              "<PIL.Image.Image image mode=L size=28x28 at 0x7F887011E4C0>"
            ],
            "image/png": "[encoded data removed]"
          },
          "metadata": {}
        },
        {
          "output_type": "display_data",
          "data": {
            "text/plain": [
              "<PIL.Image.Image image mode=L size=28x28 at 0x7F887011E4C0>"
            ],
            "image/png": "[encoded data removed]"
          },
          "metadata": {}
        },
        {
          "output_type": "display_data",
          "data": {
            "text/plain": [
              "<PIL.Image.Image image mode=L size=28x28 at 0x7F887011E4C0>"
            ],
            "image/png": "[encoded data removed]"
          },
          "metadata": {}
        },
        {
          "output_type": "display_data",
          "data": {
            "text/plain": [
              "<PIL.Image.Image image mode=L size=28x28 at 0x7F887011E4C0>"
            ],
            "image/png": "[encoded data removed]"
          },
          "metadata": {}
        },
        {
          "output_type": "display_data",
          "data": {
            "text/plain": [
              "<PIL.Image.Image image mode=L size=28x28 at 0x7F887011E4C0>"
            ],
            "image/png": "[encoded data removed]"
          },
          "metadata": {}
        },
        {
          "output_type": "stream",
          "name": "stdout",
          "text": [
            "epoch 5\n",
            "1/1 [==============================] - 0s 14ms/step\n"
          ]
        },
        {
          "output_type": "display_data",
          "data": {
            "text/plain": [
              "<PIL.Image.Image image mode=L size=28x28 at 0x7F88700FE5E0>"
            ],
            "image/png": "[encoded data removed]"
          },
          "metadata": {}
        },
        {
          "output_type": "display_data",
          "data": {
            "text/plain": [
              "<PIL.Image.Image image mode=L size=28x28 at 0x7F88700FE5E0>"
            ],
            "image/png": "[encoded data removed]"
          },
          "metadata": {}
        },
        {
          "output_type": "display_data",
          "data": {
            "text/plain": [
              "<PIL.Image.Image image mode=L size=28x28 at 0x7F88700FE5E0>"
            ],
            "image/png": "[encoded data removed]"
          },
          "metadata": {}
        },
        {
          "output_type": "display_data",
          "data": {
            "text/plain": [
              "<PIL.Image.Image image mode=L size=28x28 at 0x7F88700FE5E0>"
            ],
            "image/png": "[encoded data removed]"
          },
          "metadata": {}
        },
        {
          "output_type": "display_data",
          "data": {
            "text/plain": [
              "<PIL.Image.Image image mode=L size=28x28 at 0x7F88700FE5E0>"
            ],
            "image/png": "[encoded data removed]"
          },
          "metadata": {}
        },
        {
          "output_type": "display_data",
          "data": {
            "text/plain": [
              "<PIL.Image.Image image mode=L size=28x28 at 0x7F88700FE5E0>"
            ],
            "image/png": "[encoded data removed]"
          },
          "metadata": {}
        },
        {
          "output_type": "display_data",
          "data": {
            "text/plain": [
              "<PIL.Image.Image image mode=L size=28x28 at 0x7F88700FE5E0>"
            ],
            "image/png": "[encoded data removed]"
          },
          "metadata": {}
        },
        {
          "output_type": "display_data",
          "data": {
            "text/plain": [
              "<PIL.Image.Image image mode=L size=28x28 at 0x7F88700FE5E0>"
            ],
            "image/png": "[encoded data removed]"
          },
          "metadata": {}
        },
        {
          "output_type": "stream",
          "name": "stdout",
          "text": [
            "epoch 6\n",
            "1/1 [==============================] - 0s 15ms/step\n"
          ]
        },
        {
          "output_type": "display_data",
          "data": {
            "text/plain": [
              "<PIL.Image.Image image mode=L size=28x28 at 0x7F88700A9790>"
            ],
            "image/png": "[encoded data removed]"
          },
          "metadata": {}
        },
        {
          "output_type": "display_data",
          "data": {
            "text/plain": [
              "<PIL.Image.Image image mode=L size=28x28 at 0x7F8870123190>"
            ],
            "image/png": "[encoded data removed]"
          },
          "metadata": {}
        },
        {
          "output_type": "display_data",
          "data": {
            "text/plain": [
              "<PIL.Image.Image image mode=L size=28x28 at 0x7F8870123190>"
            ],
            "image/png": "[encoded data removed]"
          },
          "metadata": {}
        },
        {
          "output_type": "display_data",
          "data": {
            "text/plain": [
              "<PIL.Image.Image image mode=L size=28x28 at 0x7F8870123190>"
            ],
            "image/png": "[encoded data removed]"
          },
          "metadata": {}
        },
        {
          "output_type": "display_data",
          "data": {
            "text/plain": [
              "<PIL.Image.Image image mode=L size=28x28 at 0x7F8870123190>"
            ],
            "image/png": "[encoded data removed]"
          },
          "metadata": {}
        },
        {
          "output_type": "display_data",
          "data": {
            "text/plain": [
              "<PIL.Image.Image image mode=L size=28x28 at 0x7F8870123190>"
            ],
            "image/png": "[encoded data removed]"
          },
          "metadata": {}
        },
        {
          "output_type": "display_data",
          "data": {
            "text/plain": [
              "<PIL.Image.Image image mode=L size=28x28 at 0x7F8870123190>"
            ],
            "image/png": "[encoded data removed]"
          },
          "metadata": {}
        },
        {
          "output_type": "display_data",
          "data": {
            "text/plain": [
              "<PIL.Image.Image image mode=L size=28x28 at 0x7F8870123190>"
            ],
            "image/png": "[encoded data removed]"
          },
          "metadata": {}
        },
        {
          "output_type": "stream",
          "name": "stdout",
          "text": [
            "epoch 7\n",
            "1/1 [==============================] - 0s 13ms/step\n"
          ]
        },
        {
          "output_type": "display_data",
          "data": {
            "text/plain": [
              "<PIL.Image.Image image mode=L size=28x28 at 0x7F887004DAC0>"
            ],
            "image/png": "[encoded data removed]"
          },
          "metadata": {}
        },
        {
          "output_type": "display_data",
          "data": {
            "text/plain": [
              "<PIL.Image.Image image mode=L size=28x28 at 0x7F887004DAC0>"
            ],
            "image/png": "[encoded data removed]"
          },
          "metadata": {}
        },
        {
          "output_type": "display_data",
          "data": {
            "text/plain": [
              "<PIL.Image.Image image mode=L size=28x28 at 0x7F887004DAC0>"
            ],
            "image/png": "[encoded data removed]"
          },
          "metadata": {}
        },
        {
          "output_type": "display_data",
          "data": {
            "text/plain": [
              "<PIL.Image.Image image mode=L size=28x28 at 0x7F887004DAC0>"
            ],
            "image/png": "[encoded data removed]"
          },
          "metadata": {}
        },
        {
          "output_type": "display_data",
          "data": {
            "text/plain": [
              "<PIL.Image.Image image mode=L size=28x28 at 0x7F887004DAC0>"
            ],
            "image/png": "[encoded data removed]"
          },
          "metadata": {}
        },
        {
          "output_type": "display_data",
          "data": {
            "text/plain": [
              "<PIL.Image.Image image mode=L size=28x28 at 0x7F887004DAC0>"
            ],
            "image/png": "[encoded data removed]"
          },
          "metadata": {}
        },
        {
          "output_type": "display_data",
          "data": {
            "text/plain": [
              "<PIL.Image.Image image mode=L size=28x28 at 0x7F88700A9B20>"
            ],
            "image/png": "[encoded data removed]"
          },
          "metadata": {}
        },
        {
          "output_type": "display_data",
          "data": {
            "text/plain": [
              "<PIL.Image.Image image mode=L size=28x28 at 0x7F88700A9B20>"
            ],
            "image/png": "[encoded data removed]"
          },
          "metadata": {}
        },
        {
          "output_type": "stream",
          "name": "stdout",
          "text": [
            "epoch 8\n",
            "1/1 [==============================] - 0s 14ms/step\n"
          ]
        },
        {
          "output_type": "display_data",
          "data": {
            "text/plain": [
              "<PIL.Image.Image image mode=L size=28x28 at 0x7F8870068A90>"
            ],
            "image/png": "[encoded data removed]"
          },
          "metadata": {}
        },
        {
          "output_type": "display_data",
          "data": {
            "text/plain": [
              "<PIL.Image.Image image mode=L size=28x28 at 0x7F8870068A90>"
            ],
            "image/png": "[encoded data removed]"
          },
          "metadata": {}
        },
        {
          "output_type": "display_data",
          "data": {
            "text/plain": [
              "<PIL.Image.Image image mode=L size=28x28 at 0x7F8870068A90>"
            ],
            "image/png": "[encoded data removed]"
          },
          "metadata": {}
        },
        {
          "output_type": "display_data",
          "data": {
            "text/plain": [
              "<PIL.Image.Image image mode=L size=28x28 at 0x7F8870068A90>"
            ],
            "image/png": "[encoded data removed]"
          },
          "metadata": {}
        },
        {
          "output_type": "display_data",
          "data": {
            "text/plain": [
              "<PIL.Image.Image image mode=L size=28x28 at 0x7F8870068A90>"
            ],
            "image/png": "[encoded data removed]"
          },
          "metadata": {}
        },
        {
          "output_type": "display_data",
          "data": {
            "text/plain": [
              "<PIL.Image.Image image mode=L size=28x28 at 0x7F8870068A90>"
            ],
            "image/png": "[encoded data removed]"
          },
          "metadata": {}
        },
        {
          "output_type": "display_data",
          "data": {
            "text/plain": [
              "<PIL.Image.Image image mode=L size=28x28 at 0x7F8870068A90>"
            ],
            "image/png": "[encoded data removed]"
          },
          "metadata": {}
        },
        {
          "output_type": "display_data",
          "data": {
            "text/plain": [
              "<PIL.Image.Image image mode=L size=28x28 at 0x7F8870068A90>"
            ],
            "image/png": "[encoded data removed]"
          },
          "metadata": {}
        },
        {
          "output_type": "stream",
          "name": "stdout",
          "text": [
            "epoch 9\n",
            "1/1 [==============================] - 0s 14ms/step\n"
          ]
        },
        {
          "output_type": "display_data",
          "data": {
            "text/plain": [
              "<PIL.Image.Image image mode=L size=28x28 at 0x7F8870086DC0>"
            ],
            "image/png": "[encoded data removed]"
          },
          "metadata": {}
        },
        {
          "output_type": "display_data",
          "data": {
            "text/plain": [
              "<PIL.Image.Image image mode=L size=28x28 at 0x7F8870086DC0>"
            ],
            "image/png": "[encoded data removed]"
          },
          "metadata": {}
        },
        {
          "output_type": "display_data",
          "data": {
            "text/plain": [
              "<PIL.Image.Image image mode=L size=28x28 at 0x7F8870086DC0>"
            ],
            "image/png": "[encoded data removed]"
          },
          "metadata": {}
        },
        {
          "output_type": "display_data",
          "data": {
            "text/plain": [
              "<PIL.Image.Image image mode=L size=28x28 at 0x7F8870086DC0>"
            ],
            "image/png": "[encoded data removed]"
          },
          "metadata": {}
        },
        {
          "output_type": "display_data",
          "data": {
            "text/plain": [
              "<PIL.Image.Image image mode=L size=28x28 at 0x7F8870086DC0>"
            ],
            "image/png": "[encoded data removed]"
          },
          "metadata": {}
        },
        {
          "output_type": "display_data",
          "data": {
            "text/plain": [
              "<PIL.Image.Image image mode=L size=28x28 at 0x7F8870086DC0>"
            ],
            "image/png": "[encoded data removed]"
          },
          "metadata": {}
        },
        {
          "output_type": "display_data",
          "data": {
            "text/plain": [
              "<PIL.Image.Image image mode=L size=28x28 at 0x7F8870086DC0>"
            ],
            "image/png": "[encoded data removed]"
          },
          "metadata": {}
        },
        {
          "output_type": "display_data",
          "data": {
            "text/plain": [
              "<PIL.Image.Image image mode=L size=28x28 at 0x7F8870086DC0>"
            ],
            "image/png": "[encoded data removed]"
          },
          "metadata": {}
        }
      ]
    }
  ]
}